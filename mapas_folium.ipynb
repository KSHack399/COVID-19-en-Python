{
  "nbformat": 4,
  "nbformat_minor": 0,
  "metadata": {
    "colab": {
      "name": "mapas_folium.ipynb",
      "provenance": [],
      "collapsed_sections": [],
      "toc_visible": true,
      "include_colab_link": true
    },
    "kernelspec": {
      "name": "python3",
      "display_name": "Python 3"
    }
  },
  "cells": [
    {
      "cell_type": "markdown",
      "metadata": {
        "id": "view-in-github",
        "colab_type": "text"
      },
      "source": [
        "<a href=\"https://colab.research.google.com/github/jalopezgarcia01/COVID-19-en-Python/blob/master/mapas_folium.ipynb\" target=\"_parent\"><img src=\"https://colab.research.google.com/assets/colab-badge.svg\" alt=\"Open In Colab\"/></a>"
      ]
    },
    {
      "cell_type": "markdown",
      "metadata": {
        "id": "0RqJDDT3QjPd",
        "colab_type": "text"
      },
      "source": [
        "###Instalar librería Folium"
      ]
    },
    {
      "cell_type": "code",
      "metadata": {
        "id": "nGuUPT6rHMEc",
        "colab_type": "code",
        "colab": {
          "base_uri": "https://localhost:8080/",
          "height": 224
        },
        "outputId": "65957b1a-c4a9-4730-e63f-8eebf67e613e"
      },
      "source": [
        "!pip install folium"
      ],
      "execution_count": null,
      "outputs": [
        {
          "output_type": "stream",
          "text": [
            "Requirement already satisfied: folium in /usr/local/lib/python3.6/dist-packages (0.8.3)\n",
            "Requirement already satisfied: six in /usr/local/lib/python3.6/dist-packages (from folium) (1.15.0)\n",
            "Requirement already satisfied: branca>=0.3.0 in /usr/local/lib/python3.6/dist-packages (from folium) (0.4.1)\n",
            "Requirement already satisfied: requests in /usr/local/lib/python3.6/dist-packages (from folium) (2.23.0)\n",
            "Requirement already satisfied: jinja2 in /usr/local/lib/python3.6/dist-packages (from folium) (2.11.2)\n",
            "Requirement already satisfied: numpy in /usr/local/lib/python3.6/dist-packages (from folium) (1.18.5)\n",
            "Requirement already satisfied: certifi>=2017.4.17 in /usr/local/lib/python3.6/dist-packages (from requests->folium) (2020.6.20)\n",
            "Requirement already satisfied: idna<3,>=2.5 in /usr/local/lib/python3.6/dist-packages (from requests->folium) (2.10)\n",
            "Requirement already satisfied: chardet<4,>=3.0.2 in /usr/local/lib/python3.6/dist-packages (from requests->folium) (3.0.4)\n",
            "Requirement already satisfied: urllib3!=1.25.0,!=1.25.1,<1.26,>=1.21.1 in /usr/local/lib/python3.6/dist-packages (from requests->folium) (1.24.3)\n",
            "Requirement already satisfied: MarkupSafe>=0.23 in /usr/local/lib/python3.6/dist-packages (from jinja2->folium) (1.1.1)\n"
          ],
          "name": "stdout"
        }
      ]
    },
    {
      "cell_type": "markdown",
      "metadata": {
        "id": "y_EZVLg6HMsw",
        "colab_type": "text"
      },
      "source": [
        "###Hacer un mapa"
      ]
    },
    {
      "cell_type": "code",
      "metadata": {
        "id": "AWMvyrrAjMnr",
        "colab_type": "code",
        "colab": {
          "base_uri": "https://localhost:8080/",
          "height": 583
        },
        "outputId": "01ff4648-5635-4896-f12e-9721a9e7b75b"
      },
      "source": [
        "import folium\n",
        "m=folium.Map(location=[21, -99.1269], zoom_start=4)\n",
        "m"
      ],
      "execution_count": 1,
      "outputs": [
        {
          "output_type": "execute_result",
          "data": {
            "text/html": [
              "<div style=\"width:100%;\"><div style=\"position:relative;width:100%;height:0;padding-bottom:60%;\"><span style=\"color:#565656\">Make this Notebook Trusted to load map: File -> Trust Notebook</span><iframe src=\"about:blank\" style=\"position:absolute;width:100%;height:100%;left:0;top:0;border:none !important;\" data-html=PCFET0NUWVBFIGh0bWw+CjxoZWFkPiAgICAKICAgIDxtZXRhIGh0dHAtZXF1aXY9ImNvbnRlbnQtdHlwZSIgY29udGVudD0idGV4dC9odG1sOyBjaGFyc2V0PVVURi04IiAvPgogICAgPHNjcmlwdD5MX1BSRUZFUl9DQU5WQVM9ZmFsc2U7IExfTk9fVE9VQ0g9ZmFsc2U7IExfRElTQUJMRV8zRD1mYWxzZTs8L3NjcmlwdD4KICAgIDxzY3JpcHQgc3JjPSJodHRwczovL2Nkbi5qc2RlbGl2ci5uZXQvbnBtL2xlYWZsZXRAMS40LjAvZGlzdC9sZWFmbGV0LmpzIj48L3NjcmlwdD4KICAgIDxzY3JpcHQgc3JjPSJodHRwczovL2NvZGUuanF1ZXJ5LmNvbS9qcXVlcnktMS4xMi40Lm1pbi5qcyI+PC9zY3JpcHQ+CiAgICA8c2NyaXB0IHNyYz0iaHR0cHM6Ly9tYXhjZG4uYm9vdHN0cmFwY2RuLmNvbS9ib290c3RyYXAvMy4yLjAvanMvYm9vdHN0cmFwLm1pbi5qcyI+PC9zY3JpcHQ+CiAgICA8c2NyaXB0IHNyYz0iaHR0cHM6Ly9jZG5qcy5jbG91ZGZsYXJlLmNvbS9hamF4L2xpYnMvTGVhZmxldC5hd2Vzb21lLW1hcmtlcnMvMi4wLjIvbGVhZmxldC5hd2Vzb21lLW1hcmtlcnMuanMiPjwvc2NyaXB0PgogICAgPGxpbmsgcmVsPSJzdHlsZXNoZWV0IiBocmVmPSJodHRwczovL2Nkbi5qc2RlbGl2ci5uZXQvbnBtL2xlYWZsZXRAMS40LjAvZGlzdC9sZWFmbGV0LmNzcyIvPgogICAgPGxpbmsgcmVsPSJzdHlsZXNoZWV0IiBocmVmPSJodHRwczovL21heGNkbi5ib290c3RyYXBjZG4uY29tL2Jvb3RzdHJhcC8zLjIuMC9jc3MvYm9vdHN0cmFwLm1pbi5jc3MiLz4KICAgIDxsaW5rIHJlbD0ic3R5bGVzaGVldCIgaHJlZj0iaHR0cHM6Ly9tYXhjZG4uYm9vdHN0cmFwY2RuLmNvbS9ib290c3RyYXAvMy4yLjAvY3NzL2Jvb3RzdHJhcC10aGVtZS5taW4uY3NzIi8+CiAgICA8bGluayByZWw9InN0eWxlc2hlZXQiIGhyZWY9Imh0dHBzOi8vbWF4Y2RuLmJvb3RzdHJhcGNkbi5jb20vZm9udC1hd2Vzb21lLzQuNi4zL2Nzcy9mb250LWF3ZXNvbWUubWluLmNzcyIvPgogICAgPGxpbmsgcmVsPSJzdHlsZXNoZWV0IiBocmVmPSJodHRwczovL2NkbmpzLmNsb3VkZmxhcmUuY29tL2FqYXgvbGlicy9MZWFmbGV0LmF3ZXNvbWUtbWFya2Vycy8yLjAuMi9sZWFmbGV0LmF3ZXNvbWUtbWFya2Vycy5jc3MiLz4KICAgIDxsaW5rIHJlbD0ic3R5bGVzaGVldCIgaHJlZj0iaHR0cHM6Ly9yYXdjZG4uZ2l0aGFjay5jb20vcHl0aG9uLXZpc3VhbGl6YXRpb24vZm9saXVtL21hc3Rlci9mb2xpdW0vdGVtcGxhdGVzL2xlYWZsZXQuYXdlc29tZS5yb3RhdGUuY3NzIi8+CiAgICA8c3R5bGU+aHRtbCwgYm9keSB7d2lkdGg6IDEwMCU7aGVpZ2h0OiAxMDAlO21hcmdpbjogMDtwYWRkaW5nOiAwO308L3N0eWxlPgogICAgPHN0eWxlPiNtYXAge3Bvc2l0aW9uOmFic29sdXRlO3RvcDowO2JvdHRvbTowO3JpZ2h0OjA7bGVmdDowO308L3N0eWxlPgogICAgCiAgICA8bWV0YSBuYW1lPSJ2aWV3cG9ydCIgY29udGVudD0id2lkdGg9ZGV2aWNlLXdpZHRoLAogICAgICAgIGluaXRpYWwtc2NhbGU9MS4wLCBtYXhpbXVtLXNjYWxlPTEuMCwgdXNlci1zY2FsYWJsZT1ubyIgLz4KICAgIDxzdHlsZT4jbWFwX2VlZWQzMDRjZmY1YzQ5YzZiODY2ZmM2NWMwYWE1MGJmIHsKICAgICAgICBwb3NpdGlvbjogcmVsYXRpdmU7CiAgICAgICAgd2lkdGg6IDEwMC4wJTsKICAgICAgICBoZWlnaHQ6IDEwMC4wJTsKICAgICAgICBsZWZ0OiAwLjAlOwogICAgICAgIHRvcDogMC4wJTsKICAgICAgICB9CiAgICA8L3N0eWxlPgo8L2hlYWQ+Cjxib2R5PiAgICAKICAgIAogICAgPGRpdiBjbGFzcz0iZm9saXVtLW1hcCIgaWQ9Im1hcF9lZWVkMzA0Y2ZmNWM0OWM2Yjg2NmZjNjVjMGFhNTBiZiIgPjwvZGl2Pgo8L2JvZHk+CjxzY3JpcHQ+ICAgIAogICAgCiAgICAKICAgICAgICB2YXIgYm91bmRzID0gbnVsbDsKICAgIAoKICAgIHZhciBtYXBfZWVlZDMwNGNmZjVjNDljNmI4NjZmYzY1YzBhYTUwYmYgPSBMLm1hcCgKICAgICAgICAnbWFwX2VlZWQzMDRjZmY1YzQ5YzZiODY2ZmM2NWMwYWE1MGJmJywgewogICAgICAgIGNlbnRlcjogWzIxLCAtOTkuMTI2OV0sCiAgICAgICAgem9vbTogNCwKICAgICAgICBtYXhCb3VuZHM6IGJvdW5kcywKICAgICAgICBsYXllcnM6IFtdLAogICAgICAgIHdvcmxkQ29weUp1bXA6IGZhbHNlLAogICAgICAgIGNyczogTC5DUlMuRVBTRzM4NTcsCiAgICAgICAgem9vbUNvbnRyb2w6IHRydWUsCiAgICAgICAgfSk7CgoKICAgIAogICAgdmFyIHRpbGVfbGF5ZXJfNDRkNzdkYjBhMDY1NDc1ZTkyZTU2NGM5NjQ0NWRhYzYgPSBMLnRpbGVMYXllcigKICAgICAgICAnaHR0cHM6Ly97c30udGlsZS5vcGVuc3RyZWV0bWFwLm9yZy97en0ve3h9L3t5fS5wbmcnLAogICAgICAgIHsKICAgICAgICAiYXR0cmlidXRpb24iOiBudWxsLAogICAgICAgICJkZXRlY3RSZXRpbmEiOiBmYWxzZSwKICAgICAgICAibWF4TmF0aXZlWm9vbSI6IDE4LAogICAgICAgICJtYXhab29tIjogMTgsCiAgICAgICAgIm1pblpvb20iOiAwLAogICAgICAgICJub1dyYXAiOiBmYWxzZSwKICAgICAgICAib3BhY2l0eSI6IDEsCiAgICAgICAgInN1YmRvbWFpbnMiOiAiYWJjIiwKICAgICAgICAidG1zIjogZmFsc2UKfSkuYWRkVG8obWFwX2VlZWQzMDRjZmY1YzQ5YzZiODY2ZmM2NWMwYWE1MGJmKTsKPC9zY3JpcHQ+ onload=\"this.contentDocument.open();this.contentDocument.write(atob(this.getAttribute('data-html')));this.contentDocument.close();\" allowfullscreen webkitallowfullscreen mozallowfullscreen></iframe></div></div>"
            ],
            "text/plain": [
              "<folium.folium.Map at 0x7f2c5d95da20>"
            ]
          },
          "metadata": {
            "tags": []
          },
          "execution_count": 1
        }
      ]
    },
    {
      "cell_type": "markdown",
      "metadata": {
        "id": "ZL_Zn-lMkXzv",
        "colab_type": "text"
      },
      "source": [
        "###Colocar un marcador"
      ]
    },
    {
      "cell_type": "code",
      "metadata": {
        "id": "dxZo19Bmka-d",
        "colab_type": "code",
        "colab": {
          "base_uri": "https://localhost:8080/",
          "height": 583
        },
        "outputId": "7852e939-2f4d-4e3a-9ff7-ea6b326a493e"
      },
      "source": [
        "m = folium.Map(\n",
        "    location=[21, -99.1269],\n",
        "    zoom_start=10,\n",
        "    tiles='Stamen Terrain'\n",
        ")\n",
        "\n",
        "tooltip = 'Click me!'\n",
        "\n",
        "folium.Marker([21, -99.1269], popup='<i>Mt. Hood Meadows</i>', tooltip=tooltip).add_to(m)\n",
        "folium.Marker([21.23, -99.23], popup='<b>Timberline Lodge</b>', tooltip=tooltip).add_to(m)\n",
        "m"
      ],
      "execution_count": 2,
      "outputs": [
        {
          "output_type": "execute_result",
          "data": {
            "text/html": [
              "<div style=\"width:100%;\"><div style=\"position:relative;width:100%;height:0;padding-bottom:60%;\"><span style=\"color:#565656\">Make this Notebook Trusted to load map: File -> Trust Notebook</span><iframe src=\"about:blank\" style=\"position:absolute;width:100%;height:100%;left:0;top:0;border:none !important;\" data-html=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 onload=\"this.contentDocument.open();this.contentDocument.write(atob(this.getAttribute('data-html')));this.contentDocument.close();\" allowfullscreen webkitallowfullscreen mozallowfullscreen></iframe></div></div>"
            ],
            "text/plain": [
              "<folium.folium.Map at 0x7f2c5c93a748>"
            ]
          },
          "metadata": {
            "tags": []
          },
          "execution_count": 2
        }
      ]
    },
    {
      "cell_type": "markdown",
      "metadata": {
        "id": "rR1hFubol3m7",
        "colab_type": "text"
      },
      "source": [
        "###Obtener geoJSON\n",
        "\n",
        "https://team.carto.com/u/andrew/tables/mexican_states/public?redirected=true"
      ]
    },
    {
      "cell_type": "markdown",
      "metadata": {
        "id": "fQRIMhjDq1DN",
        "colab_type": "text"
      },
      "source": [
        "###Instalar librería Geopandas"
      ]
    },
    {
      "cell_type": "code",
      "metadata": {
        "id": "8l8tpPzunnl7",
        "colab_type": "code",
        "colab": {
          "base_uri": "https://localhost:8080/",
          "height": 462
        },
        "outputId": "4c96aeec-2e47-4f30-c7ac-6e861526c034"
      },
      "source": [
        "!pip install geopandas"
      ],
      "execution_count": 5,
      "outputs": [
        {
          "output_type": "stream",
          "text": [
            "Collecting geopandas\n",
            "\u001b[?25l  Downloading https://files.pythonhosted.org/packages/f7/a4/e66aafbefcbb717813bf3a355c8c4fc3ed04ea1dd7feb2920f2f4f868921/geopandas-0.8.1-py2.py3-none-any.whl (962kB)\n",
            "\r\u001b[K     |▍                               | 10kB 16.7MB/s eta 0:00:01\r\u001b[K     |▊                               | 20kB 2.7MB/s eta 0:00:01\r\u001b[K     |█                               | 30kB 3.5MB/s eta 0:00:01\r\u001b[K     |█▍                              | 40kB 3.8MB/s eta 0:00:01\r\u001b[K     |█▊                              | 51kB 1.6MB/s eta 0:00:01\r\u001b[K     |██                              | 61kB 1.8MB/s eta 0:00:01\r\u001b[K     |██▍                             | 71kB 2.0MB/s eta 0:00:01\r\u001b[K     |██▊                             | 81kB 2.2MB/s eta 0:00:01\r\u001b[K     |███                             | 92kB 2.3MB/s eta 0:00:01\r\u001b[K     |███▍                            | 102kB 2.5MB/s eta 0:00:01\r\u001b[K     |███▊                            | 112kB 2.5MB/s eta 0:00:01\r\u001b[K     |████                            | 122kB 2.5MB/s eta 0:00:01\r\u001b[K     |████▍                           | 133kB 2.5MB/s eta 0:00:01\r\u001b[K     |████▊                           | 143kB 2.5MB/s eta 0:00:01\r\u001b[K     |█████                           | 153kB 2.5MB/s eta 0:00:01\r\u001b[K     |█████▌                          | 163kB 2.5MB/s eta 0:00:01\r\u001b[K     |█████▉                          | 174kB 2.5MB/s eta 0:00:01\r\u001b[K     |██████▏                         | 184kB 2.5MB/s eta 0:00:01\r\u001b[K     |██████▌                         | 194kB 2.5MB/s eta 0:00:01\r\u001b[K     |██████▉                         | 204kB 2.5MB/s eta 0:00:01\r\u001b[K     |███████▏                        | 215kB 2.5MB/s eta 0:00:01\r\u001b[K     |███████▌                        | 225kB 2.5MB/s eta 0:00:01\r\u001b[K     |███████▉                        | 235kB 2.5MB/s eta 0:00:01\r\u001b[K     |████████▏                       | 245kB 2.5MB/s eta 0:00:01\r\u001b[K     |████████▌                       | 256kB 2.5MB/s eta 0:00:01\r\u001b[K     |████████▉                       | 266kB 2.5MB/s eta 0:00:01\r\u001b[K     |█████████▏                      | 276kB 2.5MB/s eta 0:00:01\r\u001b[K     |█████████▌                      | 286kB 2.5MB/s eta 0:00:01\r\u001b[K     |█████████▉                      | 296kB 2.5MB/s eta 0:00:01\r\u001b[K     |██████████▏                     | 307kB 2.5MB/s eta 0:00:01\r\u001b[K     |██████████▌                     | 317kB 2.5MB/s eta 0:00:01\r\u001b[K     |███████████                     | 327kB 2.5MB/s eta 0:00:01\r\u001b[K     |███████████▎                    | 337kB 2.5MB/s eta 0:00:01\r\u001b[K     |███████████▋                    | 348kB 2.5MB/s eta 0:00:01\r\u001b[K     |████████████                    | 358kB 2.5MB/s eta 0:00:01\r\u001b[K     |████████████▎                   | 368kB 2.5MB/s eta 0:00:01\r\u001b[K     |████████████▋                   | 378kB 2.5MB/s eta 0:00:01\r\u001b[K     |█████████████                   | 389kB 2.5MB/s eta 0:00:01\r\u001b[K     |█████████████▎                  | 399kB 2.5MB/s eta 0:00:01\r\u001b[K     |█████████████▋                  | 409kB 2.5MB/s eta 0:00:01\r\u001b[K     |██████████████                  | 419kB 2.5MB/s eta 0:00:01\r\u001b[K     |██████████████▎                 | 430kB 2.5MB/s eta 0:00:01\r\u001b[K     |██████████████▋                 | 440kB 2.5MB/s eta 0:00:01\r\u001b[K     |███████████████                 | 450kB 2.5MB/s eta 0:00:01\r\u001b[K     |███████████████▎                | 460kB 2.5MB/s eta 0:00:01\r\u001b[K     |███████████████▋                | 471kB 2.5MB/s eta 0:00:01\r\u001b[K     |████████████████                | 481kB 2.5MB/s eta 0:00:01\r\u001b[K     |████████████████▍               | 491kB 2.5MB/s eta 0:00:01\r\u001b[K     |████████████████▊               | 501kB 2.5MB/s eta 0:00:01\r\u001b[K     |█████████████████               | 512kB 2.5MB/s eta 0:00:01\r\u001b[K     |█████████████████▍              | 522kB 2.5MB/s eta 0:00:01\r\u001b[K     |█████████████████▊              | 532kB 2.5MB/s eta 0:00:01\r\u001b[K     |██████████████████              | 542kB 2.5MB/s eta 0:00:01\r\u001b[K     |██████████████████▍             | 552kB 2.5MB/s eta 0:00:01\r\u001b[K     |██████████████████▊             | 563kB 2.5MB/s eta 0:00:01\r\u001b[K     |███████████████████             | 573kB 2.5MB/s eta 0:00:01\r\u001b[K     |███████████████████▍            | 583kB 2.5MB/s eta 0:00:01\r\u001b[K     |███████████████████▊            | 593kB 2.5MB/s eta 0:00:01\r\u001b[K     |████████████████████            | 604kB 2.5MB/s eta 0:00:01\r\u001b[K     |████████████████████▍           | 614kB 2.5MB/s eta 0:00:01\r\u001b[K     |████████████████████▊           | 624kB 2.5MB/s eta 0:00:01\r\u001b[K     |█████████████████████           | 634kB 2.5MB/s eta 0:00:01\r\u001b[K     |█████████████████████▍          | 645kB 2.5MB/s eta 0:00:01\r\u001b[K     |█████████████████████▉          | 655kB 2.5MB/s eta 0:00:01\r\u001b[K     |██████████████████████▏         | 665kB 2.5MB/s eta 0:00:01\r\u001b[K     |██████████████████████▌         | 675kB 2.5MB/s eta 0:00:01\r\u001b[K     |██████████████████████▉         | 686kB 2.5MB/s eta 0:00:01\r\u001b[K     |███████████████████████▏        | 696kB 2.5MB/s eta 0:00:01\r\u001b[K     |███████████████████████▌        | 706kB 2.5MB/s eta 0:00:01\r\u001b[K     |███████████████████████▉        | 716kB 2.5MB/s eta 0:00:01\r\u001b[K     |████████████████████████▏       | 727kB 2.5MB/s eta 0:00:01\r\u001b[K     |████████████████████████▌       | 737kB 2.5MB/s eta 0:00:01\r\u001b[K     |████████████████████████▉       | 747kB 2.5MB/s eta 0:00:01\r\u001b[K     |█████████████████████████▏      | 757kB 2.5MB/s eta 0:00:01\r\u001b[K     |█████████████████████████▌      | 768kB 2.5MB/s eta 0:00:01\r\u001b[K     |█████████████████████████▉      | 778kB 2.5MB/s eta 0:00:01\r\u001b[K     |██████████████████████████▏     | 788kB 2.5MB/s eta 0:00:01\r\u001b[K     |██████████████████████████▌     | 798kB 2.5MB/s eta 0:00:01\r\u001b[K     |██████████████████████████▉     | 808kB 2.5MB/s eta 0:00:01\r\u001b[K     |███████████████████████████▎    | 819kB 2.5MB/s eta 0:00:01\r\u001b[K     |███████████████████████████▋    | 829kB 2.5MB/s eta 0:00:01\r\u001b[K     |████████████████████████████    | 839kB 2.5MB/s eta 0:00:01\r\u001b[K     |████████████████████████████▎   | 849kB 2.5MB/s eta 0:00:01\r\u001b[K     |████████████████████████████▋   | 860kB 2.5MB/s eta 0:00:01\r\u001b[K     |█████████████████████████████   | 870kB 2.5MB/s eta 0:00:01\r\u001b[K     |█████████████████████████████▎  | 880kB 2.5MB/s eta 0:00:01\r\u001b[K     |█████████████████████████████▋  | 890kB 2.5MB/s eta 0:00:01\r\u001b[K     |██████████████████████████████  | 901kB 2.5MB/s eta 0:00:01\r\u001b[K     |██████████████████████████████▎ | 911kB 2.5MB/s eta 0:00:01\r\u001b[K     |██████████████████████████████▋ | 921kB 2.5MB/s eta 0:00:01\r\u001b[K     |███████████████████████████████ | 931kB 2.5MB/s eta 0:00:01\r\u001b[K     |███████████████████████████████▎| 942kB 2.5MB/s eta 0:00:01\r\u001b[K     |███████████████████████████████▋| 952kB 2.5MB/s eta 0:00:01\r\u001b[K     |████████████████████████████████| 962kB 2.5MB/s eta 0:00:01\r\u001b[K     |████████████████████████████████| 972kB 2.5MB/s \n",
            "\u001b[?25hRequirement already satisfied: shapely in /usr/local/lib/python3.6/dist-packages (from geopandas) (1.7.0)\n",
            "Collecting pyproj>=2.2.0\n",
            "\u001b[?25l  Downloading https://files.pythonhosted.org/packages/e5/c3/071e080230ac4b6c64f1a2e2f9161c9737a2bc7b683d2c90b024825000c0/pyproj-2.6.1.post1-cp36-cp36m-manylinux2010_x86_64.whl (10.9MB)\n",
            "\u001b[K     |████████████████████████████████| 10.9MB 39.9MB/s \n",
            "\u001b[?25hRequirement already satisfied: pandas>=0.23.0 in /usr/local/lib/python3.6/dist-packages (from geopandas) (1.0.5)\n",
            "Collecting fiona\n",
            "\u001b[?25l  Downloading https://files.pythonhosted.org/packages/ec/20/4e63bc5c6e62df889297b382c3ccd4a7a488b00946aaaf81a118158c6f09/Fiona-1.8.13.post1-cp36-cp36m-manylinux1_x86_64.whl (14.7MB)\n",
            "\u001b[K     |████████████████████████████████| 14.7MB 317kB/s \n",
            "\u001b[?25hRequirement already satisfied: numpy>=1.13.3 in /usr/local/lib/python3.6/dist-packages (from pandas>=0.23.0->geopandas) (1.18.5)\n",
            "Requirement already satisfied: pytz>=2017.2 in /usr/local/lib/python3.6/dist-packages (from pandas>=0.23.0->geopandas) (2018.9)\n",
            "Requirement already satisfied: python-dateutil>=2.6.1 in /usr/local/lib/python3.6/dist-packages (from pandas>=0.23.0->geopandas) (2.8.1)\n",
            "Collecting click-plugins>=1.0\n",
            "  Downloading https://files.pythonhosted.org/packages/e9/da/824b92d9942f4e472702488857914bdd50f73021efea15b4cad9aca8ecef/click_plugins-1.1.1-py2.py3-none-any.whl\n",
            "Requirement already satisfied: click<8,>=4.0 in /usr/local/lib/python3.6/dist-packages (from fiona->geopandas) (7.1.2)\n",
            "Collecting munch\n",
            "  Downloading https://files.pythonhosted.org/packages/cc/ab/85d8da5c9a45e072301beb37ad7f833cd344e04c817d97e0cc75681d248f/munch-2.5.0-py2.py3-none-any.whl\n",
            "Requirement already satisfied: attrs>=17 in /usr/local/lib/python3.6/dist-packages (from fiona->geopandas) (19.3.0)\n",
            "Collecting cligj>=0.5\n",
            "  Downloading https://files.pythonhosted.org/packages/e4/be/30a58b4b0733850280d01f8bd132591b4668ed5c7046761098d665ac2174/cligj-0.5.0-py3-none-any.whl\n",
            "Requirement already satisfied: six>=1.7 in /usr/local/lib/python3.6/dist-packages (from fiona->geopandas) (1.15.0)\n",
            "Installing collected packages: pyproj, click-plugins, munch, cligj, fiona, geopandas\n",
            "Successfully installed click-plugins-1.1.1 cligj-0.5.0 fiona-1.8.13.post1 geopandas-0.8.1 munch-2.5.0 pyproj-2.6.1.post1\n"
          ],
          "name": "stdout"
        }
      ]
    },
    {
      "cell_type": "markdown",
      "metadata": {
        "id": "eQrRxAcrpWvl",
        "colab_type": "text"
      },
      "source": [
        "###Sombrear un área"
      ]
    },
    {
      "cell_type": "code",
      "metadata": {
        "id": "B4YfALOS2nqG",
        "colab_type": "code",
        "colab": {}
      },
      "source": [
        ""
      ],
      "execution_count": null,
      "outputs": []
    },
    {
      "cell_type": "code",
      "metadata": {
        "id": "fzEb-z6Mm0b1",
        "colab_type": "code",
        "colab": {
          "base_uri": "https://localhost:8080/",
          "height": 583
        },
        "outputId": "58f58991-9f56-448b-ce95-2592d37e5046"
      },
      "source": [
        "import pandas as pd\n",
        "import geopandas\n",
        "\n",
        "df=geopandas.read_file('mexican_states.geojson')\n",
        "d1=df.iat[6,-1]\n",
        "\n",
        "m=folium.Map(location=[26, -99.156], zoom_start=4.5)\n",
        "folium.GeoJson(d1,name='geojson').add_to(m)\n",
        "m"
      ],
      "execution_count": 6,
      "outputs": [
        {
          "output_type": "execute_result",
          "data": {
            "text/html": [
              "<div style=\"width:100%;\"><div style=\"position:relative;width:100%;height:0;padding-bottom:60%;\"><span style=\"color:#565656\">Make this Notebook Trusted to load map: File -> Trust Notebook</span><iframe src=\"about:blank\" style=\"position:absolute;width:100%;height:100%;left:0;top:0;border:none !important;\" data-html=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 onload=\"this.contentDocument.open();this.contentDocument.write(atob(this.getAttribute('data-html')));this.contentDocument.close();\" allowfullscreen webkitallowfullscreen mozallowfullscreen></iframe></div></div>"
            ],
            "text/plain": [
              "<folium.folium.Map at 0x7f2c54a12e48>"
            ]
          },
          "metadata": {
            "tags": []
          },
          "execution_count": 6
        }
      ]
    },
    {
      "cell_type": "markdown",
      "metadata": {
        "id": "ZZwty_gTMH0n",
        "colab_type": "text"
      },
      "source": [
        "###Colores\n",
        "https://en.wikipedia.org/wiki/X11_color_names"
      ]
    },
    {
      "cell_type": "markdown",
      "metadata": {
        "id": "DOs7XN0HppyO",
        "colab_type": "text"
      },
      "source": [
        "###Sombrear dos áreas con distinto color"
      ]
    },
    {
      "cell_type": "code",
      "metadata": {
        "colab_type": "code",
        "id": "79DTkv4npsrt",
        "colab": {
          "base_uri": "https://localhost:8080/",
          "height": 583
        },
        "outputId": "7685d92b-fbd1-4d93-b258-0a35e0c2766c"
      },
      "source": [
        "import pandas as pd\n",
        "import geopandas\n",
        "\n",
        "df=geopandas.read_file('mexican_states.geojson')\n",
        "d1=df.iat[17,-1]\n",
        "d2=df.iat[6,-1]\n",
        "\n",
        "m=folium.Map(location=[26, -99.156], zoom_start=4.5)\n",
        "\n",
        "style1 = {'fillColor': '#00FF00', 'color': '#008000'}\n",
        "style2 = {'fillColor': '#FF1493', 'color': '#8B008B'}\n",
        "\n",
        "folium.GeoJson(d1,name='geojson',style_function=lambda x:style1).add_to(m)\n",
        "folium.GeoJson(d2,name='geojson',style_function=lambda x:style2).add_to(m)\n",
        "\n",
        "m.save('mapa.html')\n",
        "m"
      ],
      "execution_count": 7,
      "outputs": [
        {
          "output_type": "execute_result",
          "data": {
            "text/html": [
              "<div style=\"width:100%;\"><div style=\"position:relative;width:100%;height:0;padding-bottom:60%;\"><span style=\"color:#565656\">Make this Notebook Trusted to load map: File -> Trust Notebook</span><iframe src=\"about:blank\" style=\"position:absolute;width:100%;height:100%;left:0;top:0;border:none !important;\" data-html=PCFET0NUWVBFIGh0bWw+CjxoZWFkPiAgICAKICAgIDxtZXRhIGh0dHAtZXF1aXY9ImNvbnRlbnQtdHlwZSIgY29udGVudD0idGV4dC9odG1sOyBjaGFyc2V0PVVURi04IiAvPgogICAgPHNjcmlwdD5MX1BSRUZFUl9DQU5WQVM9ZmFsc2U7IExfTk9fVE9VQ0g9ZmFsc2U7IExfRElTQUJMRV8zRD1mYWxzZTs8L3NjcmlwdD4KICAgIDxzY3JpcHQgc3JjPSJodHRwczovL2Nkbi5qc2RlbGl2ci5uZXQvbnBtL2xlYWZsZXRAMS40LjAvZGlzdC9sZWFmbGV0LmpzIj48L3NjcmlwdD4KICAgIDxzY3JpcHQgc3JjPSJodHRwczovL2NvZGUuanF1ZXJ5LmNvbS9qcXVlcnktMS4xMi40Lm1pbi5qcyI+PC9zY3JpcHQ+CiAgICA8c2NyaXB0IHNyYz0iaHR0cHM6Ly9tYXhjZG4uYm9vdHN0cmFwY2RuLmNvbS9ib290c3RyYXAvMy4yLjAvanMvYm9vdHN0cmFwLm1pbi5qcyI+PC9zY3JpcHQ+CiAgICA8c2NyaXB0IHNyYz0iaHR0cHM6Ly9jZG5qcy5jbG91ZGZsYXJlLmNvbS9hamF4L2xpYnMvTGVhZmxldC5hd2Vzb21lLW1hcmtlcnMvMi4wLjIvbGVhZmxldC5hd2Vzb21lLW1hcmtlcnMuanMiPjwvc2NyaXB0PgogICAgPGxpbmsgcmVsPSJzdHlsZXNoZWV0IiBocmVmPSJodHRwczovL2Nkbi5qc2RlbGl2ci5uZXQvbnBtL2xlYWZsZXRAMS40LjAvZGlzdC9sZWFmbGV0LmNzcyIvPgogICAgPGxpbmsgcmVsPSJzdHlsZXNoZWV0IiBocmVmPSJodHRwczovL21heGNkbi5ib290c3RyYXBjZG4uY29tL2Jvb3RzdHJhcC8zLjIuMC9jc3MvYm9vdHN0cmFwLm1pbi5jc3MiLz4KICAgIDxsaW5rIHJlbD0ic3R5bGVzaGVldCIgaHJlZj0iaHR0cHM6Ly9tYXhjZG4uYm9vdHN0cmFwY2RuLmNvbS9ib290c3RyYXAvMy4yLjAvY3NzL2Jvb3RzdHJhcC10aGVtZS5taW4uY3NzIi8+CiAgICA8bGluayByZWw9InN0eWxlc2hlZXQiIGhyZWY9Imh0dHBzOi8vbWF4Y2RuLmJvb3RzdHJhcGNkbi5jb20vZm9udC1hd2Vzb21lLzQuNi4zL2Nzcy9mb250LWF3ZXNvbWUubWluLmNzcyIvPgogICAgPGxpbmsgcmVsPSJzdHlsZXNoZWV0IiBocmVmPSJodHRwczovL2NkbmpzLmNsb3VkZmxhcmUuY29tL2FqYXgvbGlicy9MZWFmbGV0LmF3ZXNvbWUtbWFya2Vycy8yLjAuMi9sZWFmbGV0LmF3ZXNvbWUtbWFya2Vycy5jc3MiLz4KICAgIDxsaW5rIHJlbD0ic3R5bGVzaGVldCIgaHJlZj0iaHR0cHM6Ly9yYXdjZG4uZ2l0aGFjay5jb20vcHl0aG9uLXZpc3VhbGl6YXRpb24vZm9saXVtL21hc3Rlci9mb2xpdW0vdGVtcGxhdGVzL2xlYWZsZXQuYXdlc29tZS5yb3RhdGUuY3NzIi8+CiAgICA8c3R5bGU+aHRtbCwgYm9keSB7d2lkdGg6IDEwMCU7aGVpZ2h0OiAxMDAlO21hcmdpbjogMDtwYWRkaW5nOiAwO308L3N0eWxlPgogICAgPHN0eWxlPiNtYXAge3Bvc2l0aW9uOmFic29sdXRlO3RvcDowO2JvdHRvbTowO3JpZ2h0OjA7bGVmdDowO308L3N0eWxlPgogICAgCiAgICA8bWV0YSBuYW1lPSJ2aWV3cG9ydCIgY29udGVudD0id2lkdGg9ZGV2aWNlLXdpZHRoLAogICAgICAgIGluaXRpYWwtc2NhbGU9MS4wLCBtYXhpbXVtLXNjYWxlPTEuMCwgdXNlci1zY2FsYWJsZT1ubyIgLz4KICAgIDxzdHlsZT4jbWFwXzMyOTdhMDkwNDEwMjRkODZiNjQzNmMzNzZkYTZiYjBiIHsKICAgICAgICBwb3NpdGlvbjogcmVsYXRpdmU7CiAgICAgICAgd2lkdGg6IDEwMC4wJTsKICAgICAgICBoZWlnaHQ6IDEwMC4wJTsKICAgICAgICBsZWZ0OiAwLjAlOwogICAgICAgIHRvcDogMC4wJTsKICAgICAgICB9CiAgICA8L3N0eWxlPgo8L2hlYWQ+Cjxib2R5PiAgICAKICAgIAogICAgPGRpdiBjbGFzcz0iZm9saXVtLW1hcCIgaWQ9Im1hcF8zMjk3YTA5MDQxMDI0ZDg2YjY0MzZjMzc2ZGE2YmIwYiIgPjwvZGl2Pgo8L2JvZHk+CjxzY3JpcHQ+ICAgIAogICAgCiAgICAKICAgICAgICB2YXIgYm91bmRzID0gbnVsbDsKICAgIAoKICAgIHZhciBtYXBfMzI5N2EwOTA0MTAyNGQ4NmI2NDM2YzM3NmRhNmJiMGIgPSBMLm1hcCgKICAgICAgICAnbWFwXzMyOTdhMDkwNDEwMjRkODZiNjQzNmMzNzZkYTZiYjBiJywgewogICAgICAgIGNlbnRlcjogWzI2LCAtOTkuMTU2XSwKICAgICAgICB6b29tOiA0LjUsCiAgICAgICAgbWF4Qm91bmRzOiBib3VuZHMsCiAgICAgICAgbGF5ZXJzOiBbXSwKICAgICAgICB3b3JsZENvcHlKdW1wOiBmYWxzZSwKICAgICAgICBjcnM6IEwuQ1JTLkVQU0czODU3LAogICAgICAgIHpvb21Db250cm9sOiB0cnVlLAogICAgICAgIH0pOwoKCiAgICAKICAgIHZhciB0aWxlX2xheWVyXzgyZjY5YzI5ZmFmYjQ4ZmJiNDJmYTEzOWM5ZjhiYjhhID0gTC50aWxlTGF5ZXIoCiAgICAgICAgJ2h0dHBzOi8ve3N9LnRpbGUub3BlbnN0cmVldG1hcC5vcmcve3p9L3t4fS97eX0ucG5nJywKICAgICAgICB7CiAgICAgICAgImF0dHJpYnV0aW9uIjogbnVsbCwKICAgICAgICAiZGV0ZWN0UmV0aW5hIjogZmFsc2UsCiAgICAgICAgIm1heE5hdGl2ZVpvb20iOiAxOCwKICAgICAgICAibWF4Wm9vbSI6IDE4LAogICAgICAgICJtaW5ab29tIjogMCwKICAgICAgICAibm9XcmFwIjogZmFsc2UsCiAgICAgICAgIm9wYWNpdHkiOiAxLAogICAgICAgICJzdWJkb21haW5zIjogImFiYyIsCiAgICAgICAgInRtcyI6IGZhbHNlCn0pLmFkZFRvKG1hcF8zMjk3YTA5MDQxMDI0ZDg2YjY0MzZjMzc2ZGE2YmIwYik7CiAgICAKICAgICAgICB2YXIgZ2VvX2pzb25fOTkzNGI5MzAyOTk2NDVhNmFiNzQ0ZmNiYzY2ZWI0YmEgPSBMLmdlb0pzb24oCiAgICAgICAgICAgIHsiZmVhdHVyZXMiOiBbeyJnZW9tZXRyeSI6IHsiY29vcmRpbmF0ZXMiOiBbW1tbLTk4LjUxNTAxNSwgMjEuMzk4ODg4XSwgWy05OC41MjY1MjcsIDIxLjM5ODc0OF0sIFstOTguNTU5NDQ4LCAyMS4zODE5NDNdLCBbLTk4LjU4MDAwOSwgMjEuMzY1MTM3XSwgWy05OC42MDU4MzUsIDIxLjMzNDQ0Ml0sIFstOTguNjE0MzExLCAyMS4zMTI2MzddLCBbLTk4LjYwODYxMiwgMjEuMjU1ODMzXSwgWy05OC42MTA5MDksIDIxLjIyNTkwMV0sIFstOTguODAyMDg2LCAyMS4xODU5N10sIFstOTguODM3Nzg0LCAyMS4xOTA1NTJdLCBbLTk4LjkwNzIyNywgMjEuMjIwOTddLCBbLTk4LjkxNTAwOSwgMjEuMjQ4NzQ3XSwgWy05OC45MzQ5MzcsIDIxLjI4NjgwNF0sIFstOTguOTU4NzU1LCAyMS4yOTc2MzhdLCBbLTk4Ljk4NDg3MSwgMjEuMjk3NjM4XSwgWy05OS4wMDY4MTMsIDIxLjI5MjM2XSwgWy05OS4wMzYzMjQsIDIxLjI3ODQ2OV0sIFstOTkuMDQzMjU5LCAyMS4yNjgzMjJdLCBbLTk5LjA4MzA2OSwgMjEuMjg4MDU1XSwgWy05OS4wOTM5MDMsIDIxLjMzNTgzMV0sIFstOTkuMjAzMzQ2LCAyMS42NDQxNjVdLCBbLTk5LjIzNDg3MSwgMjEuNjM2ODA1XSwgWy05OS4zNjQ4NzYsIDIxLjU1ODE5MV0sIFstOTkuMzc3MzY1LCAyMS41NDEyNDhdLCBbLTk5LjM4NjgxLCAyMS40OTk3Ml0sIFstOTkuNDAxMDQ3LCAyMS40Njk4Nl0sIFstOTkuNDU0NzI3LCAyMS40NDgzM10sIFstOTkuNDc2Mzk1LCAyMS40NDI3NzZdLCBbLTk5LjUxNTU2NCwgMjEuNDM0NzE5XSwgWy05OS41Nzk3MjcsIDIxLjQyMzg4NV0sIFstOTkuNjI0NDUxLCAyMS40OTAyNzZdLCBbLTk5LjY0ODYyMSwgMjEuNTI4MDUzXSwgWy05OS42NjU5MDksIDIxLjU0NTU1M10sIFstOTkuNjk2MjU5LCAyMS41NTM2MV0sIFstOTkuNzIyMjI5LCAyMS41NDEyNDhdLCBbLTk5Ljc0MzA1NywgMjEuNTIxNjY0XSwgWy05OS43NTQ0NTYsIDIxLjUwNDAyNl0sIFstOTkuNzkwNTQzLCAyMS40MTkxNzhdLCBbLTk5Ljg2NTg0NSwgMjEuNDU2Mzg3XSwgWy0xMDAuMDE2NDAzLCAyMS41MTQ3MjFdLCBbLTEwMC4xMDQ0NDYsIDIxLjU0ODg4NV0sIFstMTAwLjE3NTAwMywgMjEuNTc2OTQyXSwgWy0xMDAuMTkzMTc2LCAyMS41ODYyNThdLCBbLTEwMC4yMjgzNDgsIDIxLjYxMjQ5OV0sIFstMTAwLjI4MTMyNiwgMjEuNjQ0Nzg5XSwgWy0xMDAuNDAzMzM2LCAyMS42NTU0MTVdLCBbLTEwMC40MjczNjgsIDIxLjY1MjM1OV0sIFstMTAwLjQ1MTE4NywgMjEuNjMzNTM3XSwgWy0xMDAuNDY0ODY3LCAyMS41OTE5NDJdLCBbLTEwMC41NjAzNDEsIDIxLjUxMDM0NF0sIFstMTAwLjYwMDgzOCwgMjEuNTA1NTUyXSwgWy0xMDAuNjI4NjE2LCAyMS41MTAyNzddLCBbLTEwMC42NjUwMDksIDIxLjUyMDgzMl0sIFstMTAwLjcwODYxOCwgMjEuNTQ0NDQxXSwgWy0xMDAuNzUxNjc4LCAyMS41Njg4ODZdLCBbLTEwMC44MzA1NjYsIDIxLjYyMzA1NV0sIFstMTAwLjg0Njk0NywgMjEuNjM2MTA4XSwgWy0xMDAuOTEyNzgxLCAyMS42OTI3NzZdLCBbLTEwMC45MjY2NzQsIDIxLjcwNzYzNl0sIFstMTAwLjk1NDU5LCAyMS43MzYzODddLCBbLTEwMC45Nzc1MDEsIDIxLjc0NzYzN10sIFstMTAxLjAwODYyMSwgMjEuNzUzMDUyXSwgWy0xMDEuMTE1MjgsIDIxLjc2MTY2NV0sIFstMTAxLjE4MzYxNywgMjEuNzYzODg3XSwgWy0xMDEuMjEyMDk3LCAyMS43NzA4MzJdLCBbLTEwMS4yNDg2MTEsIDIxLjc5NzQ5N10sIFstMTAxLjI2NTAwNywgMjEuODEzMTkyXSwgWy0xMDEuMjgzODksIDIxLjgzNDE2NF0sIFstMTAxLjMxOTA5OSwgMjEuODU5MzcxXSwgWy0xMDEuMzQ5OTk4LCAyMS44NTgxOTJdLCBbLTEwMS4zODE2NjgsIDIxLjg0NDQ0NF0sIFstMTAxLjQwODYyMywgMjEuODM2OTQxXSwgWy0xMDEuNDMzNDg3LCAyMS44MzQ5OTldLCBbLTEwMS40NjI1MDksIDIxLjgzNzQ5OF0sIFstMTAxLjQ5MDAxMywgMjEuODQxOTQyXSwgWy0xMDEuNTIxOTU3LCAyMS44NTQ0NDNdLCBbLTEwMS41MjQ4NTcsIDIxLjg1NjY0XSwgWy0xMDEuNDQ1MDA3LCAyMS45NDY5NDFdLCBbLTEwMS4zMzEzOSwgMjIuMDc0NzJdLCBbLTEwMS4zMjY1MzgsIDIyLjA5ODA1M10sIFstMTAxLjMzNjUzMywgMjIuMTQwMzQ1XSwgWy0xMDEuMzQ3NTA0LCAyMi4yMzgzMzFdLCBbLTEwMS4zNTc1MDYsIDIyLjM5ODYwOV0sIFstMTAxLjMzMjUwNCwgMjIuNDE1MTM2XSwgWy0xMDEuMzExNDAxLCAyMi40MzM2MDldLCBbLTEwMS4yOTYxODgsIDIyLjQ2OTk5N10sIFstMTAxLjI5OTQ1NCwgMjIuNTA2OTQzXSwgWy0xMDEuMzExNDAxLCAyMi41MzUyNzVdLCBbLTEwMS4zMjQzMSwgMjIuNTU2ODA1XSwgWy0xMDEuMzQ3MjI5LCAyMi41Nzc0OTldLCBbLTEwMS4zNzUsIDIyLjU5NDE2Nl0sIFstMTAxLjQyNjk0OSwgMjIuNjEyMjIxXSwgWy0xMDEuNDUzNjI5LCAyMi42MTc0OThdLCBbLTEwMS40ODExMTcsIDIyLjYxODYxXSwgWy0xMDEuNTQxMzk3LCAyMi42MTA2OTNdLCBbLTEwMS41NzA4NDcsIDIyLjU5ODA1M10sIFstMTAxLjU4NzUwOSwgMjIuNTg2MTA5XSwgWy0xMDEuNjM2MTg1LCAyMi41NDMxOTJdLCBbLTEwMS42NzA2MzEsIDIyLjUwODk1NV0sIFstMTAxLjY5MDg0MiwgMjIuNDc5NzIxXSwgWy0xMDEuNzA3MjMsIDIyLjQ2MjI4OF0sIFstMTAxLjc5OTcyOCwgMjIuNDc3Nzc2XSwgWy0xMDEuODcwODI3LCAyMi40OTMxM10sIFstMTAxLjg3Nzc5MiwgMjIuNTEyNzc1XSwgWy0xMDEuODg5NzE3LCAyMi41NDA4MzNdLCBbLTEwMS45MDQxNjcsIDIyLjU2NzQ5N10sIFstMTAxLjkzMTUzNCwgMjIuNjE2Mzg2XSwgWy0xMDEuOTUzMzM5LCAyMi42NDA3Nl0sIFstMTAxLjk4NTAwMSwgMjIuNjYzODg3XSwgWy0xMDIuMDA5NDUzLCAyMi42ODM4ODddLCBbLTEwMi4xMjE2NzQsIDIyLjc4ODYwOV0sIFstMTAyLjE0MTI1MSwgMjIuODA4MzMyXSwgWy0xMDIuMTY3MDg0LCAyMi44NTEzODddLCBbLTEwMi4yMTI3ODQsIDIyLjk1NzIyMl0sIFstMTAyLjIyNDMxMiwgMjMuMDMxMzg3XSwgWy0xMDIuMTk5NzMsIDIzLjA4MTY2M10sIFstMTAyLjE5NTM1OCwgMjMuMTA2MDM5XSwgWy0xMDIuMjM3MDIyLCAyMy4xNzYyNDldLCBbLTEwMi4yNjc2NDcsIDIzLjE5ODg4N10sIFstMTAyLjI3ODU0MiwgMjMuMjE4MzNdLCBbLTEwMi4yNjUyODksIDIzLjI1NDcxOV0sIFstMTAyLjE5MzYxOSwgMjMuMzMzNjExXSwgWy0xMDIuMTMzNjA2LCAyMy4zNjMxOTRdLCBbLTEwMi4wOTI3NzMsIDIzLjM2MjkxNV0sIFstMTAyLjA1NzUxLCAyMy4zNzM2MDhdLCBbLTEwMi4wMzkxNjksIDIzLjM4MzMzMV0sIFstMTAyLjAxNDE4MywgMjMuNDAxMzg2XSwgWy0xMDEuOTkzODk2LCAyMy40MTcyMjFdLCBbLTEwMS45NzM4OTIsIDIzLjQzMzMzMV0sIFstMTAxLjk1MzYyMSwgMjMuNDUyNzc0XSwgWy0xMDEuOTM3NSwgMjMuNDc2OTQ0XSwgWy0xMDEuOTI1NTY4LCAyMy40OTg0N10sIFstMTAxLjg3MDI5MywgMjMuNTQ4MDU0XSwgWy0xMDEuODI4NjEzLCAyMy41NzgwNTNdLCBbLTEwMS43OTAzNTIsIDIzLjYwMjAxM10sIFstMTAxLjcwNjY4LCAyMy42NTYxMDldLCBbLTEwMS41Mzg2MiwgMjMuNzg4NjA5XSwgWy0xMDEuNTA2MzkzLCAyMy44MTQxNjNdLCBbLTEwMS40MDIyMzcsIDIzLjg5ODA1Ml0sIFstMTAxLjE3MzA3MywgMjQuMTEzMzMxXSwgWy0xMDEuMTUxNjcyLCAyNC4xMzY2NjVdLCBbLTEwMS4xMDYyNTUsIDI0LjE5ODA1M10sIFstMTAxLjA3ODMzOSwgMjQuMjQxOTQzXSwgWy0xMDEuMDQ2NDAyLCAyNC4yOTkxNjRdLCBbLTEwMS4wMjg5LCAyNC4zMzM4ODVdLCBbLTEwMS4wMTA4MzQsIDI0LjM2MDgzMl0sIFstMTAwLjk4MTk0OSwgMjQuMzk4NjA5XSwgWy0xMDAuOTU4NDczLCAyNC40MjIwODFdLCBbLTEwMC45MjU4NDIsIDI0LjQ0MzMzM10sIFstMTAwLjg5NjUzLCAyNC40NjUxMzddLCBbLTEwMC44NjQxODIsIDI0LjQ5ODg4Nl0sIFstMTAwLjgzNzIyNywgMjQuNTMwMjc3XSwgWy0xMDAuODIzNjI0LCAyNC41NTIyMTldLCBbLTEwMC44MjI1NjMsIDI0LjU2MzIwMl0sIFstMTAwLjc0NDE3OSwgMjQuNDg5NzIxXSwgWy0xMDAuNzEwODU0LCAyNC40NTE2NjRdLCBbLTEwMC42ODE2NzEsIDI0LjQxNzIyMV0sIFstMTAwLjY2NTI4MywgMjQuMzk3Nzc4XSwgWy0xMDAuNTkzMzM4LCAyNC4yOTc0OTldLCBbLTEwMC41ODAwMDksIDI0LjI2Njk0M10sIFstMTAwLjU2NTU2NywgMjQuMjE1MTM3XSwgWy0xMDAuNTYyMjMzLCAyNC4xODY2NjVdLCBbLTEwMC41NjIwODgsIDI0LjE0NjgwM10sIFstMTAwLjU2Mzc1MSwgMjQuMTI0ODU5XSwgWy0xMDAuNTcyMjQzLCAyNC4wODc0OThdLCBbLTEwMC41ODI2NDksIDI0LjA1NjEwOF0sIFstMTAwLjU5NTE0NiwgMjQuMDE1OTddLCBbLTEwMC42MDI1MDEsIDIzLjk2NTI3N10sIFstMTAwLjU5NDE3NywgMjMuOTQwNTUyXSwgWy0xMDAuNTc0NDQsIDIzLjkwNTI3NV0sIFstMTAwLjQ5Njk0OCwgMjMuODEyNzc1XSwgWy0xMDAuNDgxMjU1LCAyMy43OTYyNDddLCBbLTEwMC40MjI3OTEsIDIzLjY5MjIxOV0sIFstMTAwLjQ0MzYxOSwgMjMuNDk5MTY1XSwgWy0xMDAuNDI4NDY3LCAyMy40MTYxOF0sIFstMTAwLjQzMzYxNywgMjMuMzc5NzE5XSwgWy0xMDAuNDQ2MTIxLCAyMy4zMjMwNTVdLCBbLTEwMC40NTI1MDcsIDIzLjI5ODg4NV0sIFstMTAwLjQ1NDU5NywgMjMuMjY5NTgxXSwgWy0xMDAuNDQ0MTY4LCAyMy4yMzQxNjVdLCBbLTEwMC40MzI3ODUsIDIzLjIxNDQ0M10sIFstMTAwLjQxNDQ1MiwgMjMuMjAyOTEzXSwgWy0xMDAuMzcyNTc0LCAyMy4xOTUyMDZdLCBbLTEwMC4zMzc3ODQsIDIzLjIwMTY2Nl0sIFstMTAwLjMxNjY3MywgMjMuMjIwMTM3XSwgWy0xMDAuMzAzODk0LCAyMy4yNDQ3Ml0sIFstMTAwLjA5NDcyNywgMjMuMjQyNzc1XSwgWy0xMDAuMDU3MjQzLCAyMy4yNDExMDhdLCBbLTEwMC4wNzY0MDEsIDIzLjE4MDI3NV0sIFstMTAwLjA4NTE3NSwgMjMuMTMxOTQzXSwgWy0xMDAuMDQxODA5LCAyMy4xMjc1NjddLCBbLTEwMC4wMDU1NjksIDIzLjExMDgzMl0sIFstOTkuOTYwODQ2LCAyMy4wNjg2MDddLCBbLTk5LjkzMjc4NSwgMjMuMDM5NzE5XSwgWy05OS45MTE2MDYsIDIzLjAxMTk0Ml0sIFstOTkuOTEwMzU1LCAyMi45Njk1MTFdLCBbLTk5LjkzNjQwMSwgMjIuOTMwNTUzXSwgWy05OS45NjA4NDYsIDIyLjkwNDQ0Ml0sIFstOTkuOTgxNCwgMjIuODg1MTM2XSwgWy0xMDAuMDE2NDAzLCAyMi44NTkxNjVdLCBbLTEwMC4wNDM1NDEsIDIyLjg0MTI0Nl0sIFstMTAwLjAxNjY3OCwgMjIuODAzODg2XSwgWy05OS45ODE0LCAyMi43Nzk4Nl0sIFstOTkuOTM2MTExLCAyMi43NTY2NjRdLCBbLTk5LjcyMTY4LCAyMi42Njk3Ml0sIFstOTkuNjkxMzkxLCAyMi42NjA1NTNdLCBbLTk5LjU2ODA2OSwgMjIuNjI1Mjc1XSwgWy05OS41MjY3NDEsIDIyLjYyMDYyM10sIFstOTkuNTI3NTEyLCAyMi42NTEzODZdLCBbLTk5LjM3ODA1OSwgMjIuNjc4MDUzXSwgWy05OS4zMzUyODEsIDIyLjYxMTY2NF0sIFstOTkuMjkzNjI1LCAyMi41MzYzODhdLCBbLTk5LjI3NDE3LCAyMi40OTUyNzddLCBbLTk5LjI2MDEzOSwgMjIuNDcxNTI1XSwgWy05OS4yMzM0ODIsIDIyLjQ0NzQ5OF0sIFstOTkuMjExMTIxLCAyMi40Mzg4ODddLCBbLTk5LjEyMTM5OSwgMjIuNDI2OTQxXSwgWy05OS4wNzAwMDcsIDIyLjQxNDE2NV0sIFstOTkuMDI4NjI1LCAyMi40MDA1NTVdLCBbLTk4LjkzNjY3NiwgMjIuMzY3NDk2XSwgWy05OC44MDYxMjIsIDIyLjM3Mjc3Nl0sIFstOTguNzcyNTA3LCAyMi4zODgwNTRdLCBbLTk4Ljc1MzA2NywgMjIuMzk2NjY0XSwgWy05OC43MzI3ODgsIDIyLjQwMzYxXSwgWy05OC42ODYxMTEsIDIyLjQxOTE2N10sIFstOTguNjYwNTYxLCAyMi40MjQxNjZdLCBbLTk4LjYzMDI4LCAyMi40MjI2MzZdLCBbLTk4LjYxNjA4OSwgMjIuNDE4NDkxXSwgWy05OC41NDc1MDEsIDIyLjM3MzMzM10sIFstOTguNDU0NzI3LCAyMi4zMTYzODddLCBbLTk4LjQwNjQwMywgMjIuMjg5MTY1XSwgWy05OC4zODgwNjIsIDIyLjI3Nzc3NV0sIFstOTguMzY2MTEyLCAyMi4yNTc5MTRdLCBbLTk4LjM0NDczNCwgMjIuMjIyNzc2XSwgWy05OC4zNDc1MTEsIDIyLjIwMTM4NV0sIFstOTguMzU3Nzg4LCAyMi4xNzM2MTFdLCBbLTk4LjM3NjExNCwgMjIuMTQzNjA4XSwgWy05OC40ODQ0NTEsIDIxLjk5NDE2NF0sIFstOTguNDk4MDYyLCAyMS45Nzg2MTFdLCBbLTk4LjUzODg5NSwgMjEuOTcyMzU5XSwgWy05OC41Njc5MjQsIDIxLjk3OTAyNV0sIFstOTguNTg2ODYxLCAyMS45NjgxODldLCBbLTk4LjU2MTExOSwgMjEuODgwMjc2XSwgWy05OC41MjIwOTUsIDIxLjgzODQwMl0sIFstOTguNDg1MDAxLCAyMS44Mzc0OThdLCBbLTk4LjQ1MzgyNywgMjEuNzgxMTA5XSwgWy05OC40OTUyODUsIDIxLjc0MDQxNl0sIFstOTguNTU3NTEsIDIxLjY5OTE2NV0sIFstOTguNjA3ODg3LCAyMS42OTQ1NDZdLCBbLTk4LjY0MjIyNywgMjEuNjA4ODg3XSwgWy05OC42Mjc5OTgsIDIxLjU4MjA4MV0sIFstOTguNTg4NDc4LCAyMS41NTY1MjZdLCBbLTk4LjU1NTAwOCwgMjEuNTQzNjFdLCBbLTk4LjUyMjk4NywgMjEuNTIzMzMxXSwgWy05OC41MTg0NzgsIDIxLjQ5MjkxNl0sIFstOTguNTE0MTc1LCAyMS40MTQxNjVdLCBbLTk4LjUxNTAxNSwgMjEuMzk4ODg4XV1dXSwgInR5cGUiOiAiTXVsdGlQb2x5Z29uIn0sICJwcm9wZXJ0aWVzIjogeyJoaWdobGlnaHQiOiB7fSwgInN0eWxlIjogeyJjb2xvciI6ICIjMDA4MDAwIiwgImZpbGxDb2xvciI6ICIjMDBGRjAwIn19LCAidHlwZSI6ICJGZWF0dXJlIn1dLCAidHlwZSI6ICJGZWF0dXJlQ29sbGVjdGlvbiJ9LAogICAgICAgICAgICB7CiAgICAgICAgICAgIH0KICAgICAgICApLmFkZFRvKG1hcF8zMjk3YTA5MDQxMDI0ZDg2YjY0MzZjMzc2ZGE2YmIwYiApOwogICAgICAgIGdlb19qc29uXzk5MzRiOTMwMjk5NjQ1YTZhYjc0NGZjYmM2NmViNGJhLnNldFN0eWxlKGZ1bmN0aW9uKGZlYXR1cmUpIHtyZXR1cm4gZmVhdHVyZS5wcm9wZXJ0aWVzLnN0eWxlO30pOwogICAgICAgIAogICAgCiAgICAgICAgdmFyIGdlb19qc29uXzgyODRmYmQ5NWQxZTQ4YTViZjlkOWIyYmRlNDZhZDg3ID0gTC5nZW9Kc29uKAogICAgICAgICAgICB7ImZlYXR1cmVzIjogW3siZ2VvbWV0cnkiOiB7ImNvb3JkaW5hdGVzIjogW1tbWy0xMDAuMjgwMzE5LCAyMC4yMDQ1MDZdLCBbLTEwMC4yOTU1NjMsIDIwLjE5NTgzMV0sIFstMTAwLjMxMDk3NCwgMjAuMTc4ODg4XSwgWy0xMDAuMzIyOTIyLCAyMC4xNTc0OTldLCBbLTEwMC4zMzQ3MzIsIDIwLjExNjM4Nl0sIFstMTAwLjMzOTcyOSwgMjAuMDgyMDgzXSwgWy0xMDAuMzQ4NjE4LCAyMC4wNTcyMl0sIFstMTAwLjQxODc1NSwgMTkuOTU5MDI2XSwgWy0xMDAuNDM2NDAxLCAxOS45NDExMDldLCBbLTEwMC40ODA2MjksIDE5LjkwODgxN10sIFstMTAwLjUxNTgzOSwgMTkuOTA3MjIxXSwgWy0xMDAuNjgyMDkxLCAxOS45ODQ5OTldLCBbLTEwMC43MTQ3MzcsIDE5Ljk3Mjc3NV0sIFstMTAwLjczOTU4NiwgMTkuOTU5NTgxXSwgWy0xMDAuNzcyMzY5LCAxOS45NDMwNTRdLCBbLTEwMC44MDgwNiwgMTkuOTI2ODA0XSwgWy0xMDAuODQ4NjEsIDE5LjkyODQ3MV0sIFstMTAwLjg5MzY5MiwgMTkuOTM5OTk5XSwgWy0xMDAuODk1Mjc5LCAxOS45NzA1NTRdLCBbLTEwMC44OTMzNDEsIDE5Ljk5NjY2NF0sIFstMTAwLjkwNTkwNywgMjAuMDI0OTI3XSwgWy0xMDAuOTI4MzQ1LCAyMC4wNDUyNzVdLCBbLTEwMC45Nzc5MjEsIDIwLjA1ODMzMV0sIFstMTAxLjE0NzIyNCwgMjAuMDg1NTU0XSwgWy0xMDEuMTg5MzE2LCAyMC4wNjEyNDldLCBbLTEwMS4yNTU3MDcsIDIwLjAyOTQ0Ml0sIFstMTAxLjI4MzMzMywgMjAuMDIyOTE1XSwgWy0xMDEuMzE5MzEzLCAyMC4wMjMwNTRdLCBbLTEwMS4zNTMxOTUsIDIwLjAzMTk0Ml0sIFstMTAxLjM5MjY0NywgMjAuMDU4MTkzXSwgWy0xMDEuNDA1NTYzLCAyMC4wNzM0NzFdLCBbLTEwMS40MTMwNTUsIDIwLjA5NTgzMV0sIFstMTAxLjQxNDQ1OSwgMjAuMTI1NTUzXSwgWy0xMDEuNDA5MzE3LCAyMC4xNTg4ODZdLCBbLTEwMS4zOTk4NTcsIDIwLjE4MDY5M10sIFstMTAxLjQ2MDYzMiwgMjAuMzMzNjc5XSwgWy0xMDEuNTM5MTY5LCAyMC4zMzExMDhdLCBbLTEwMS42MTMzMzUsIDIwLjMwOTg1OF0sIFstMTAxLjYxNTYzMSwgMjAuMjc5Nzg5XSwgWy0xMDEuNjQwOTc2LCAyMC4yMjk4Nl0sIFstMTAxLjY3MDY5MiwgMjAuMTkyODQ0XSwgWy0xMDEuNzM2Mzg5LCAyMC4xOTc3NzddLCBbLTEwMS43NzE1MywgMjAuMjA0OTk4XSwgWy0xMDEuODMxMzk4LCAyMC4yMTA4MzFdLCBbLTEwMS44NjE4MTYsIDIwLjE5ODE5M10sIFstMTAxLjg4MjUsIDIwLjE5MTM4N10sIFstMTAxLjkwMjkyNCwgMjAuMTk2MTA4XSwgWy0xMDEuOTE5MDM3LCAyMC4yMDg4ODddLCBbLTEwMS45MzM4OTksIDIwLjI1NTU1NF0sIFstMTAxLjkzNjY4NCwgMjAuMjk2Mzg3XSwgWy0xMDEuOTM2NjY4LCAyMC4zMzU0MTVdLCBbLTEwMS45NTM5NjQsIDIwLjM2NjUyNF0sIFstMTAyLjAxNDcxNywgMjAuMzk0MTY1XSwgWy0xMDIuMTA4ODEsIDIwLjM4OTA4NF0sIFstMTAyLjEwODkwMiwgMjAuMzk0MTY1XSwgWy0xMDIuMTA0MDM0LCAyMC40MjczNTldLCBbLTEwMi4wOTI5MjYsIDIwLjQ1NzIyXSwgWy0xMDIuMDc2NjgzLCAyMC40ODExMV0sIFstMTAyLjA0OTAzNCwgMjAuNTE0NTgyXSwgWy0xMDIuMDI2OTQ3LCAyMC41MzE2NjZdLCBbLTEwMS45OTEzODYsIDIwLjU2Nzc3Nl0sIFstMTAxLjk3OTg2NiwgMjAuNTkzMDU0XSwgWy0xMDIuMDM5MTY5LCAyMC42OTUyNzRdLCBbLTEwMi4wNTI2NSwgMjAuNzEyOTE1XSwgWy0xMDIuMDc4MjAxLCAyMC43NDY4MDNdLCBbLTEwMi4wOTAyODYsIDIwLjc3ODYwOF0sIFstMTAyLjA3NDcyMiwgMjAuODEzODg5XSwgWy0xMDIuMDU1MjgzLCAyMC44NDU1NTRdLCBbLTEwMi4wMTgzNDEsIDIwLjkwMzg4OV0sIFstMTAxLjgwODQ3OSwgMjEuMTU5OTk4XSwgWy0xMDEuNzUyMjI4LCAyMS4xODg2MV0sIFstMTAxLjY1MjIyOSwgMjEuMjQ3NjM3XSwgWy0xMDEuNjMxMTE5LCAyMS4yNjU1NTNdLCBbLTEwMS41OTI5MjYsIDIxLjMwMjkxNl0sIFstMTAxLjU3NTAxMiwgMjEuMzMyNzc1XSwgWy0xMDEuNTcxMjU5LCAyMS4zNjQ3OV0sIFstMTAxLjU4MTY4LCAyMS4zOTQ5OTddLCBbLTEwMS42Mjg0NzksIDIxLjUwOTcyXSwgWy0xMDEuNjMxOTU4LCAyMS41MzAyNzddLCBbLTEwMS42MjYzOTYsIDIxLjU1MDgzM10sIFstMTAxLjYxMDU3MywgMjEuNTcxMTFdLCBbLTEwMS41ODI1MTIsIDIxLjU5MjkxNV0sIFstMTAxLjU2NjY2NiwgMjEuNjEzNjA5XSwgWy0xMDEuNTQ5NDU0LCAyMS42NDAyNzRdLCBbLTEwMS41NDMyMDUsIDIxLjY2MDQxNl0sIFstMTAxLjU0NDczMSwgMjEuNjg0MTY2XSwgWy0xMDEuNTU0MTc2LCAyMS43MDgwNTRdLCBbLTEwMS41NjY4MTEsIDIxLjcyOTcyMV0sIFstMTAxLjU4NjgxNSwgMjEuNzY3Nzc2XSwgWy0xMDEuNTgyNzc5LCAyMS43OTc2MzZdLCBbLTEwMS41MjQ4NTcsIDIxLjg1NjY0XSwgWy0xMDEuNTIxOTU3LCAyMS44NTQ0NDNdLCBbLTEwMS40OTAwMTMsIDIxLjg0MTk0Ml0sIFstMTAxLjQ2MjUwOSwgMjEuODM3NDk4XSwgWy0xMDEuNDMzNDg3LCAyMS44MzQ5OTldLCBbLTEwMS40MDg2MjMsIDIxLjgzNjk0MV0sIFstMTAxLjM4MTY2OCwgMjEuODQ0NDQ0XSwgWy0xMDEuMzQ5OTk4LCAyMS44NTgxOTJdLCBbLTEwMS4zMTkwOTksIDIxLjg1OTM3MV0sIFstMTAxLjI4Mzg5LCAyMS44MzQxNjRdLCBbLTEwMS4yNjUwMDcsIDIxLjgxMzE5Ml0sIFstMTAxLjI0ODYxMSwgMjEuNzk3NDk3XSwgWy0xMDEuMjEyMDk3LCAyMS43NzA4MzJdLCBbLTEwMS4xODM2MTcsIDIxLjc2Mzg4N10sIFstMTAxLjExNTI4LCAyMS43NjE2NjVdLCBbLTEwMS4wMDg2MjEsIDIxLjc1MzA1Ml0sIFstMTAwLjk3NzUwMSwgMjEuNzQ3NjM3XSwgWy0xMDAuOTU0NTksIDIxLjczNjM4N10sIFstMTAwLjkyNjY3NCwgMjEuNzA3NjM2XSwgWy0xMDAuOTEyNzgxLCAyMS42OTI3NzZdLCBbLTEwMC44NDY5NDcsIDIxLjYzNjEwOF0sIFstMTAwLjgzMDU2NiwgMjEuNjIzMDU1XSwgWy0xMDAuNzUxNjc4LCAyMS41Njg4ODZdLCBbLTEwMC43MDg2MTgsIDIxLjU0NDQ0MV0sIFstMTAwLjY2NTAwOSwgMjEuNTIwODMyXSwgWy0xMDAuNjI4NjE2LCAyMS41MTAyNzddLCBbLTEwMC42MDA4MzgsIDIxLjUwNTU1Ml0sIFstMTAwLjU2MDM0MSwgMjEuNTEwMzQ0XSwgWy0xMDAuNDY0ODY3LCAyMS41OTE5NDJdLCBbLTEwMC40NTExODcsIDIxLjYzMzUzN10sIFstMTAwLjQyNzM2OCwgMjEuNjUyMzU5XSwgWy0xMDAuNDAzMzM2LCAyMS42NTU0MTVdLCBbLTEwMC4yODEzMjYsIDIxLjY0NDc4OV0sIFstMTAwLjIyODM0OCwgMjEuNjEyNDk5XSwgWy0xMDAuMTkzMTc2LCAyMS41ODYyNThdLCBbLTEwMC4xNzUwMDMsIDIxLjU3Njk0Ml0sIFstMTAwLjEwNDQ0NiwgMjEuNTQ4ODg1XSwgWy0xMDAuMDE2NDAzLCAyMS41MTQ3MjFdLCBbLTk5Ljg2NTg0NSwgMjEuNDU2Mzg3XSwgWy05OS43OTA1NDMsIDIxLjQxOTE3OF0sIFstOTkuNzg4NzY1LCAyMS4zODQzMDRdLCBbLTk5Ljc4Mjc5MSwgMjEuMzI0MTY1XSwgWy05OS43NzU1NjYsIDIxLjI5ODg4N10sIFstOTkuNzU2Njc2LCAyMS4yNzQ5OThdLCBbLTk5LjcyMzMzNSwgMjEuMjQ3MzU4XSwgWy05OS43MzgxOTcsIDIxLjIyNjk0NF0sIFstOTkuODI1OTc0LCAyMS4xNzU1NTJdLCBbLTk5LjkwNTU2MywgMjEuMTg2MTA4XSwgWy05OS45NDQ1ODgsIDIxLjE5Nzk4M10sIFstOTkuOTg1NDk3LCAyMS4xOTY5NDFdLCBbLTEwMC4wMTEyNTMsIDIxLjE3ODMzMV0sIFstMTAwLjA1ODg5OSwgMjEuMDYxNjY1XSwgWy0xMDAuMDk1NzAzLCAyMC45MjkwMjRdLCBbLTEwMC4xMTcwMTIsIDIwLjkwMTEwOF0sIFstMTAwLjE2MDg0MywgMjAuOTAyMjIyXSwgWy0xMDAuMzgzNjIxLCAyMC45NDA1NTRdLCBbLTEwMC40MTMzNDUsIDIwLjk0NDU4XSwgWy0xMDAuNDU1NzY1LCAyMC45MzA0MTRdLCBbLTEwMC40ODU3MDMsIDIwLjkwMDk2OV0sIFstMTAwLjU5ODIwNiwgMjAuNjk1OTcxXSwgWy0xMDAuNTkyMzY5LCAyMC42NzU2OTJdLCBbLTEwMC41NjYxMTYsIDIwLjY2MDgzMV0sIFstMTAwLjUzODQ3NSwgMjAuNjUwMTM3XSwgWy0xMDAuNTA5MTcxLCAyMC42MjgzM10sIFstMTAwLjQ5MDE1LCAyMC42MDIyMjFdLCBbLTEwMC40Nzg2MDcsIDIwLjU3Mzg4N10sIFstMTAwLjQ2MzYyMywgMjAuNTAxOTQyXSwgWy0xMDAuNDU2OTQ3LCAyMC40NTc0OTddLCBbLTEwMC40NTU5ODYsIDIwLjQzMDY5M10sIFstMTAwLjQ0OTE3MywgMjAuMzczNjA4XSwgWy0xMDAuMzI0NzIyLCAyMC4yNDMwNTNdLCBbLTEwMC4yODAzMTksIDIwLjIwNDUwNl1dXV0sICJ0eXBlIjogIk11bHRpUG9seWdvbiJ9LCAicHJvcGVydGllcyI6IHsiaGlnaGxpZ2h0Ijoge30sICJzdHlsZSI6IHsiY29sb3IiOiAiIzhCMDA4QiIsICJmaWxsQ29sb3IiOiAiI0ZGMTQ5MyJ9fSwgInR5cGUiOiAiRmVhdHVyZSJ9XSwgInR5cGUiOiAiRmVhdHVyZUNvbGxlY3Rpb24ifSwKICAgICAgICAgICAgewogICAgICAgICAgICB9CiAgICAgICAgKS5hZGRUbyhtYXBfMzI5N2EwOTA0MTAyNGQ4NmI2NDM2YzM3NmRhNmJiMGIgKTsKICAgICAgICBnZW9fanNvbl84Mjg0ZmJkOTVkMWU0OGE1YmY5ZDliMmJkZTQ2YWQ4Ny5zZXRTdHlsZShmdW5jdGlvbihmZWF0dXJlKSB7cmV0dXJuIGZlYXR1cmUucHJvcGVydGllcy5zdHlsZTt9KTsKICAgICAgICAKPC9zY3JpcHQ+ onload=\"this.contentDocument.open();this.contentDocument.write(atob(this.getAttribute('data-html')));this.contentDocument.close();\" allowfullscreen webkitallowfullscreen mozallowfullscreen></iframe></div></div>"
            ],
            "text/plain": [
              "<folium.folium.Map at 0x7f2c549bf9b0>"
            ]
          },
          "metadata": {
            "tags": []
          },
          "execution_count": 7
        }
      ]
    }
  ]
}